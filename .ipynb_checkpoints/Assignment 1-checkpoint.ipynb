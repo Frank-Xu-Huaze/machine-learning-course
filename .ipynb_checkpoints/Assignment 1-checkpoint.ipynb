{
 "cells": [
  {
   "cell_type": "markdown",
   "metadata": {},
   "source": [
    "# Assignment 1 - Probability, Linear Algebra, Programming, and Git\n",
    "\n",
    "## *Frank Xu*\n",
    "Netid:  *hx44*"
   ]
  },
  {
   "cell_type": "markdown",
   "metadata": {},
   "source": [
    "# Probability and Statistics Theory"
   ]
  },
  {
   "cell_type": "markdown",
   "metadata": {},
   "source": [
    "## 1\n",
    "Let $f(x) = \\begin{cases}\n",
    "                0           & x < 0  \\\\\n",
    "                \\alpha x^2  & 0 \\leq x \\leq 2 \\\\\n",
    "                0           & 2 < x\n",
    "            \\end{cases}$\n",
    "            \n",
    "For what value of $\\alpha$ is $f(x)$ a valid probability density function?\n",
    "\n",
    "*Note: for all assignments, write out all equations and math for all assignments using markdown and [LaTeX](https://tobi.oetiker.ch/lshort/lshort.pdf) and show all work*"
   ]
  },
  {
   "cell_type": "markdown",
   "metadata": {},
   "source": [
    "**ANSWER**\n",
    "\n",
    "For a valid probability density function, the definite integral of the function should equals to 1.\n",
    "\n",
    "Therefore:\n",
    "\n",
    "$\\begin{align}\n",
    "\\int f(x)dx = 0 + \\int_{0}^{2}\\alpha x^2 dx + 0 &= 1\\\\\n",
    "\\int_{0}^{2}\\alpha x^2 dx &= 1\\\\\n",
    "\\frac{1}{3}\\alpha x^3 \\big|_0^2 &= 1\\\\\n",
    "\\alpha &= \\frac{3}{8}\n",
    "\\end{align}$\n"
   ]
  },
  {
   "cell_type": "markdown",
   "metadata": {},
   "source": [
    "## 2\n",
    "What is the cumulative distribution function (CDF) that corresponds to the following probability distribution function? Please state the value of the CDF for all possible values of $x$.\n",
    "\n",
    "$f(x) = \\begin{cases}\n",
    "    \\frac{1}{3} & 0 < x < 3 \\\\\n",
    "    0           & \\text{otherwise}\n",
    "    \\end{cases}$"
   ]
  },
  {
   "cell_type": "markdown",
   "metadata": {},
   "source": [
    "**ANSWER**\n",
    "\n",
    "The CDF can be calculated from PDF under the following method:\n",
    "\n",
    "$F(x) = \\int_ {-\\infty}^{x} f(t)dt$\n",
    "\n",
    "Therefore:\n",
    "\n",
    "$ \\int_0^3 \\frac{1}{3} dx = \\frac{1}{3}x \\big|_0^3$\n",
    "\n",
    "$F(x) = \\begin{cases}\n",
    "    0           & x \\leq 0 \\\\\n",
    "    \\frac{1}{3} x & 0 < x < 3 \\\\\n",
    "    1           & x \\geq 3\n",
    "    \\end{cases}$\n",
    "\n"
   ]
  },
  {
   "cell_type": "markdown",
   "metadata": {},
   "source": [
    "## 3\n",
    "For the probability distribution function for the random variable $X$,\n",
    "\n",
    "$f(x) = \\begin{cases}\n",
    "    \\frac{1}{3} & 0 < x < 3 \\\\\n",
    "    0           & \\text{otherwise}\n",
    "    \\end{cases}$\n",
    "    \n",
    "what is the (a) expected value and (b) variance of $X$. *Show all work*."
   ]
  },
  {
   "cell_type": "markdown",
   "metadata": {},
   "source": [
    "**ANSWER**\n",
    "\n",
    "(a) Expected value:\n",
    "\n",
    "$\\mathbf{E}(X) = \\int_ {-\\infty}^{\\infty} xf(x)dx = \\int_ {0}^{3} \\frac{1}{3} xdx = \\frac{1}{6}x^2 \\big|_0^3 = \\frac{3}{2}$\n",
    "\n",
    "\n",
    "(b) Variance:\n",
    "\n",
    "$\\mathbf{V}(X) = \\mathbf{E}(X^2) - (\\mathbf{E}(X))^2 = \\int_ {0}^{3} \\frac{1}{3} x^2dx - (\\frac{3}{2})^2 = 3 - \\frac{9}{4} = \\frac{3}{4}$"
   ]
  },
  {
   "cell_type": "markdown",
   "metadata": {},
   "source": [
    "## 4\n",
    "Consider the following table of data that provides the values of a discrete data vector $\\mathbf{x}$ of samples from the random variable $X$, where each entry in $\\mathbf{x}$ is given as $x_i$.\n",
    "\n",
    "*Table 1. Dataset N=5 observations*\n",
    "\n",
    "|        | $x_0$ | $x_1$ | $x_2$ | $x_3$ | $x_4$ |\n",
    "|------  |-------|-------|-------|-------|-------|\n",
    "|$\\textbf{x}$| 2     | 3     | 10    | -1    | -1    |\n",
    "\n",
    "What is the (a) mean, (b) variance, and the  of the data? \n",
    "\n",
    "*Show all work. Your answer should include the definition of mean, median, and variance in the context of discrete data.*"
   ]
  },
  {
   "cell_type": "markdown",
   "metadata": {},
   "source": [
    "**ANSWER**\n",
    "\n",
    "(a) Mean\n",
    "\n",
    "$\\mu = \\frac{\\sum{x}}{n} = \\frac{13}{5} $\n",
    "\n",
    "(b) Variance\n",
    "\n",
    "$\\mathbf{V}(X) = \\frac{\\sum{(x - \\mu)^2}}{n - 1} = 4.506 $\n"
   ]
  },
  {
   "cell_type": "markdown",
   "metadata": {},
   "source": [
    "## 5\n",
    "Review of counting from probability theory. \n",
    "\n",
    "(a) How many different 7-place license plates are possible if the first 3 places only contain letters and the last 4 only contain numbers?\n",
    "\n",
    "(b) How many different batting orders are possible for a baseball team with 9 players?\n",
    "\n",
    "(c) How many batting orders of 5 players are possible for a team with 9 players total?\n",
    "\n",
    "(d) Let's assume this class has 26 students and we want to form project teams. How many unique teams of 3 are possible?\n",
    "\n",
    "*Hint: For each problem, determine if order matters, and if it should be calculated with or without replacement.*"
   ]
  },
  {
   "cell_type": "markdown",
   "metadata": {},
   "source": [
    "**ANSWER**\n",
    "\n",
    "(a) $ 26^3 \\times 10^4 = 175760000 $\n",
    "\n",
    "(b) $ 9! = 362880 $\n",
    "\n",
    "(c) $ ^9P_5 = \\frac{9!}{(9-5)!} = 15120 $\n",
    "\n",
    "(d) $ ^{26}C_3 = 2600 $\n",
    "\n"
   ]
  },
  {
   "cell_type": "markdown",
   "metadata": {},
   "source": [
    "# Linear Algebra"
   ]
  },
  {
   "cell_type": "markdown",
   "metadata": {},
   "source": [
    "## 6\n",
    "**Matrix manipulations and multiplication**. Machine learning involves working with many matrices, so this exercise will provide you with the opportunity to practice those skills.\n",
    "\n",
    "Let\n",
    "$\\mathbf{A} =  \\begin{bmatrix}\n",
    "1 & 2 & 3 \\\\\n",
    "2 & 4 & 5 \\\\\n",
    "3 & 5 & 6 \n",
    "\\end{bmatrix}$, $\\mathbf{b} =  \\begin{bmatrix}\n",
    "-1  \\\\\n",
    "3  \\\\\n",
    "8  \n",
    "\\end{bmatrix}$, $\\mathbf{c} =  \\begin{bmatrix}\n",
    "4  \\\\\n",
    "-3  \\\\\n",
    "6  \n",
    "\\end{bmatrix}$, and $\\mathbf{I} =  \\begin{bmatrix}\n",
    "1 & 0 & 0 \\\\\n",
    "0 & 1 & 0 \\\\\n",
    "0 & 0 & 1 \n",
    "\\end{bmatrix}$\n",
    "\n",
    "Compute the following or indicate that it cannot be computed:\n",
    "\n",
    "1. $\\mathbf{A}\\mathbf{A}$\n",
    "2. $\\mathbf{A}\\mathbf{A}^T$\n",
    "3. $\\mathbf{A}\\mathbf{b}$\n",
    "4. $\\mathbf{A}\\mathbf{b}^T$\n",
    "5. $\\mathbf{b}\\mathbf{A}$\n",
    "6. $\\mathbf{b}^T\\mathbf{A}$\n",
    "7. $\\mathbf{b}\\mathbf{b}$\n",
    "8. $\\mathbf{b}^T\\mathbf{b}$\n",
    "9. $\\mathbf{b}\\mathbf{b}^T$\n",
    "10. $\\mathbf{b} + \\mathbf{c}^T$\n",
    "11. $\\mathbf{b}^T\\mathbf{b}^T$\n",
    "12. $\\mathbf{A}^{-1}\\mathbf{b}$\n",
    "13. $\\mathbf{A}\\circ\\mathbf{A}$\n",
    "14. $\\mathbf{b}\\circ\\mathbf{c}$\n",
    "\n",
    "*Note: The element-wise (or Hadamard) product is the product of each element in one matrix with the corresponding element in another matrix, and is represented by the symbol \"$\\circ$\".*"
   ]
  },
  {
   "cell_type": "markdown",
   "metadata": {},
   "source": [
    "**ANSWER**\n",
    "\n",
    "1. $ \\mathbf{A}\\mathbf{A} = \\begin{bmatrix}\n",
    "14 & 25 & 31 \\\\\n",
    "25 & 45 & 56 \\\\\n",
    "31 & 56 & 70 \n",
    "\\end{bmatrix} $\n",
    "\n",
    "2. $\\mathbf{A}\\mathbf{A}^T = \\mathbf{A}\\mathbf{A} = \\begin{bmatrix}\n",
    "14 & 25 & 31 \\\\\n",
    "25 & 45 & 56 \\\\\n",
    "31 & 56 & 70 \n",
    "\\end{bmatrix}$\n",
    "\n",
    "3. $\\mathbf{A}\\mathbf{b} = \\begin{bmatrix}\n",
    "29  \\\\\n",
    "50  \\\\\n",
    "60  \n",
    "\\end{bmatrix}$\n",
    "\n",
    "4. $\\mathbf{A}\\mathbf{b}^T$ cannot be computed.\n",
    "\n",
    "5. $\\mathbf{b}\\mathbf{A}$ cannot be computed.\n",
    "\n",
    "6. $\\mathbf{b}^T\\mathbf{A} = \\begin{bmatrix}\n",
    "29 & 50 & 60\n",
    "\\end{bmatrix}$\n",
    "\n",
    "7. $\\mathbf{b}\\mathbf{b}$ cannot be computed.\n",
    "\n",
    "8. $\\mathbf{b}^T\\mathbf{b} = \\begin{bmatrix}\n",
    "74\n",
    "\\end{bmatrix}$\n",
    "\n",
    "9. $\\mathbf{b}\\mathbf{b}^T = \\begin{bmatrix}\n",
    "1 & -3 & -8 \\\\\n",
    "-3 & 9 & 24 \\\\\n",
    "-8 & 24 & 64 \n",
    "\\end{bmatrix}$\n",
    "\n",
    "10. $\\mathbf{b} + \\mathbf{c}^T$ cannot be computed.\n",
    "\n",
    "11. $\\mathbf{b}^T\\mathbf{b}^T$ cannot be computed.\n",
    "\n",
    "12. $\\mathbf{A}^{-1}\\mathbf{b} = \\begin{bmatrix}\n",
    "1 & -3 & 2 \\\\\n",
    "-3 & 3 & -1 \\\\\n",
    "2 & -1 & 0 \n",
    "\\end{bmatrix}\\mathbf{b} = \\begin{bmatrix}\n",
    "6  \\\\\n",
    "4  \\\\\n",
    "-5  \n",
    "\\end{bmatrix}$\n",
    "\n",
    "13. $\\mathbf{A}\\circ\\mathbf{A} = \\begin{bmatrix}\n",
    "1 & 4 & 9 \\\\\n",
    "4 & 16 & 25 \\\\\n",
    "9 & 25 & 36 \n",
    "\\end{bmatrix}$\n",
    "\n",
    "14. $\\mathbf{b}\\circ\\mathbf{c} = \\begin{bmatrix}\n",
    "-4  \\\\\n",
    "-9  \\\\\n",
    "48  \n",
    "\\end{bmatrix}$"
   ]
  },
  {
   "cell_type": "markdown",
   "metadata": {},
   "source": [
    "## 6\n",
    "**Eigenvectors and eigenvalues**. Eigenvectors and eigenvalues are useful for some machine learning algorithms, but the concepts take time to solidly grasp. For an intuitive review of these concepts, explore this [interactive website at Setosa.io](http://setosa.io/ev/eigenvectors-and-eigenvalues/). Also, the series of linear algebra videos by Grant Sanderson of 3Brown1Blue are excellent and can be viewed on youtube [here](https://www.youtube.com/playlist?list=PLZHQObOWTQDPD3MizzM2xVFitgF8hE_ab).\n",
    "\n",
    "1. Calculate the eigenvalues and corresponding eigenvectors of matrix $\\mathbf{A}$ above, from the last question.\n",
    "2. Choose one of the eigenvector/eigenvalue pairs, $\\mathbf{v}$ and $\\lambda$, and show that $\\mathbf{A} \\mathbf{v} = \\lambda \\mathbf{v}$. Also show that this relationship extends to higher orders: $\\mathbf{A} \\mathbf{A} \\mathbf{v} = \\lambda^2 \\mathbf{v}$\n",
    "3. Show that the eigenvectors are orthogonal to one another (e.g. their inner product is zero). This is true for real, symmetric matrices."
   ]
  },
  {
   "cell_type": "markdown",
   "metadata": {},
   "source": [
    "**ANSWER**\n",
    "\n",
    "1. $Eigenvalues: \\lambda1 = 11.345,  \\lambda2 = 0.171, \\lambda3 = -0.516 \\\\ \n",
    "   Eigenvectors: v1 = \\begin{bmatrix}\n",
    "-0.328  \\\\\n",
    "-0.591  \\\\\n",
    "-0.737  \n",
    "\\end{bmatrix}, v2 = \\begin{bmatrix}\n",
    "0.591  \\\\\n",
    "-0.737  \\\\\n",
    "0.328  \n",
    "\\end{bmatrix}, v3 = \\begin{bmatrix}\n",
    "0.737  \\\\\n",
    "0.328  \\\\\n",
    "-0.591  \n",
    "\\end{bmatrix} $\n",
    "\n",
    "2. Given the $ eigenvalue: 11.345 $ and the corresponding $ eigenvector: \\begin{bmatrix}\n",
    "-0.328  \\\\\n",
    "-0.591  \\\\\n",
    "-0.737  \n",
    "\\end{bmatrix} $,\n",
    "\n",
    "$ left = \\mathbf{A} \\mathbf{v} = \\begin{bmatrix}\n",
    "-3.721  \\\\\n",
    "-6.705  \\\\\n",
    "-8.361  \n",
    "\\end{bmatrix}, \n",
    "right = \\lambda \\mathbf{v} = \\begin{bmatrix}\n",
    "-3.721  \\\\\n",
    "-6.705  \\\\\n",
    "-8.361  \n",
    "\\end{bmatrix} $\n",
    "\n",
    "$ left = \\mathbf{A} \\mathbf{A} \\mathbf{v} = \\begin{bmatrix}\n",
    "-42.214  \\\\\n",
    "-76.067  \\\\\n",
    "-94.854  \n",
    "\\end{bmatrix}, \n",
    "right = \\lambda^2 \\mathbf{v} = \\begin{bmatrix}\n",
    "-42.217  \\\\\n",
    "-76.067  \\\\\n",
    "-94.859  \n",
    "\\end{bmatrix} $\n",
    "\n",
    "Despite the slightly deviation due to calculating accuracy, for both equations, left = right.\n",
    "\n",
    "3. $ v1^Tv2 = \\begin{bmatrix}\n",
    "-0.328 & -0.591 & -0.737  \n",
    "\\end{bmatrix}\\begin{bmatrix}\n",
    "0.591  \\\\\n",
    "-0.737  \\\\\n",
    "0.328  \n",
    "\\end{bmatrix} = -1.7 \\times 10^{-5}\\\\\n",
    "v2^Tv3 = -1.7 \\times 10^{-5}\\\\\n",
    "v3^Tv1 = -1.7 \\times 10^{-5}\\\\ $\n",
    "\n",
    "The result is $-1.7 \\times 10^{-5}$ due to accuracy problems. If we apply the eigenvectors with more accuracy, the result will approach more to 0."
   ]
  },
  {
   "cell_type": "markdown",
   "metadata": {},
   "source": [
    "# Numerical Programming"
   ]
  },
  {
   "cell_type": "markdown",
   "metadata": {},
   "source": [
    "## 7\n",
    "Speed comparison between vectorized and non-vectorized code. Begin by creating an array of 10 million random numbers using the numpy random.randn module. Compute the sum of the squares first in a for loop, then using Numpy's `dot` module. Time how long it takes to compute each and report the results and report the output. How many times faster is the vectorized code than the for loop approach?\n",
    "\n",
    "*Note: all code should be well commented, properly formatted, and your answers should be output using the `print()` function as follows (where the # represents your answers, to a reasonable precision):\n",
    "\n",
    "`Time [sec] (non-vectorized): ######`\n",
    "\n",
    "`Time [sec] (vectorized):     ######`\n",
    "\n",
    "`The vectorized code is ##### times faster than the vectorized code`"
   ]
  },
  {
   "cell_type": "markdown",
   "metadata": {},
   "source": [
    "**ANSWER**"
   ]
  },
  {
   "cell_type": "code",
   "execution_count": 66,
   "metadata": {
    "collapsed": true
   },
   "outputs": [
    {
     "name": "stdout",
     "output_type": "stream",
     "text": [
      "Time [sec] (non-vectorized): 3.4424309730529785\n",
      "Time [sec] (vectorized):     0.7375237941741943\n",
      "The vectorized code is 4.667552423725487 times faster than the vectorized code\n"
     ]
    }
   ],
   "source": [
    "import numpy as np\n",
    "import time\n",
    "\n",
    "# Generate the random samples\n",
    "arr = np.random.randn(10000000)\n",
    "\n",
    "# Compute the sum of squares the non-vectorized way (using a for loop)\n",
    "t1 = time.time()\n",
    "ans1 = 0\n",
    "for i in arr:\n",
    "    ans1 += i**2\n",
    "t_nv = time.time() - t1\n",
    "\n",
    "# Compute the sum of squares the vectorized way (using numpy)\n",
    "t2 = time.time()\n",
    "ans2 = sum(arr ** 2)\n",
    "t_v = time.time() - t2\n",
    "\n",
    "# Print the results\n",
    "print('Time [sec] (non-vectorized): {}'.format(t_nv))\n",
    "\n",
    "print('Time [sec] (vectorized):     {}'.format(t_v))\n",
    "\n",
    "print('The vectorized code is {} times faster than the vectorized code'.format(t_nv / t_v))"
   ]
  },
  {
   "cell_type": "markdown",
   "metadata": {},
   "source": [
    "## 8\n",
    "One popular Agile development framework is Scrum (a paradigm recommended for data science projects). It emphasizes the continual evolution of code for projects, becoming progressively better, but starting with a quickly developed minimum viable product. This often means that code written early on is not optimized, and that's a good thing - it's best to get it to work first before optimizing. Imagine that you wrote the following code during a sprint towards getting an end-to-end system working. Vectorize the following code and show the difference in speed between the current implementation and a vectorized version.\n",
    "\n",
    "The function below computes the function $f(x,y) = x^2 - 2 y^2$ and determines whether this quantity is above or below a given threshold, `thresh=0`. This is done for $x,y \\in \\{-4,4\\}$, over a 2,000-by-2,000 grid covering that domain.\n",
    "\n",
    "(a) Vectorize this code and demonstrate (as in the last exercise) the speed increase through vectorization and (b) plot the resulting data - both the function $f(x,y)$ and the thresholded output - using [`imshow`](https://matplotlib.org/api/_as_gen/matplotlib.pyplot.imshow.html?highlight=matplotlib%20pyplot%20imshow#matplotlib.pyplot.imshow) from `matplotlib`.\n",
    "\n",
    "*Hint: look at the `numpy` [`meshgrid`](https://docs.scipy.org/doc/numpy-1.13.0/reference/generated/numpy.meshgrid.html) documentation*"
   ]
  },
  {
   "cell_type": "code",
   "execution_count": 35,
   "metadata": {},
   "outputs": [
    {
     "data": {
      "text/plain": [
       "<matplotlib.colorbar.Colorbar at 0x11dc8cb38>"
      ]
     },
     "execution_count": 35,
     "metadata": {},
     "output_type": "execute_result"
    },
    {
     "data": {
      "image/png": "[encoded data removed]",
      "text/plain": [
       "<Figure size 432x288 with 2 Axes>"
      ]
     },
     "metadata": {},
     "output_type": "display_data"
    }
   ],
   "source": [
    "import numpy as np\n",
    "x = np.arange(-4, 4, 8/20)\n",
    "y = np.arange(-4, 4, 8/20)\n",
    "xx, yy = np.meshgrid(x, y)\n",
    "f = (xx**2 - 2*yy**2)\n",
    "f1 = 1 * (f > 0)\n",
    "f2 = 1 * (f < 0)\n",
    "plt.imshow(f1, cmap='Greys'); plt.colorbar()"
   ]
  },
  {
   "cell_type": "code",
   "execution_count": 57,
   "metadata": {},
   "outputs": [
    {
     "name": "stdout",
     "output_type": "stream",
     "text": [
      "[]\n"
     ]
    }
   ],
   "source": [
    "import numpy as np\n",
    "import time\n",
    "import matplotlib.pyplot as plt\n",
    "\n",
    "# Initialize variables for this exerise\n",
    "thresh = 0\n",
    "x = np.arange(-1, 1, 2/50)\n",
    "y = np.arange(-1, 1, 2/50)\n",
    "xx, yy = np.meshgrid(x, y)\n",
    "X = np.array([])\n",
    "Y = np.array([])\n",
    "for i in range(50):\n",
    "    for j in range(50):\n",
    "        if (xx[i,j] == yy[i,j]):\n",
    "            np.append(X, xx[i,j])\n",
    "print(X)\n"
   ]
  },
  {
   "cell_type": "code",
   "execution_count": 67,
   "metadata": {
    "collapsed": true
   },
   "outputs": [
    {
     "name": "stdout",
     "output_type": "stream",
     "text": [
      "Time [sec] (non-vectorized): 4.359262943267822\n",
      "Time [sec] (vectorized):     0.029468059539794922\n",
      "The vectorized code is 147.93179501286428 times faster than the vectorized code\n"
     ]
    },
    {
     "data": {
      "text/plain": [
       "<matplotlib.image.AxesImage at 0x11e4b2cf8>"
      ]
     },
     "execution_count": 67,
     "metadata": {},
     "output_type": "execute_result"
    },
    {
     "data": {
      "image/png": "[encoded data removed]",
      "text/plain": [
       "<Figure size 432x288 with 1 Axes>"
      ]
     },
     "metadata": {},
     "output_type": "display_data"
    }
   ],
   "source": [
    "import numpy as np\n",
    "import time\n",
    "import matplotlib.pyplot as plt\n",
    "\n",
    "# Initialize variables for this exerise\n",
    "thresh = 0\n",
    "points = np.linspace(-4, 4, 2000)\n",
    "x, y = np.meshgrid(points, points)\n",
    "t0 = time.time()\n",
    "\n",
    "# Nonvectorized implementation\n",
    "f1 = np.zeros(shape=(2000,2000))\n",
    "for i in range(len(points)):\n",
    "    for j in range(len(points)):\n",
    "        if (x[i,j]**2 - 2*y[i,j]**2) > thresh:\n",
    "            f1[i,j] = 1\n",
    "        pass\n",
    "    pass\n",
    "t1 = time.time()\n",
    "\n",
    "# Vectorized implementation\n",
    "f = (x**2 - 2*y**2)\n",
    "f2 = 1 * (f > thresh)\n",
    "t2 = time.time()\n",
    "\n",
    "# Print the time for each and the speed increase\n",
    "print('Time [sec] (non-vectorized): {}'.format(t1-t0))\n",
    "\n",
    "print('Time [sec] (vectorized):     {}'.format(t2-t1))\n",
    "\n",
    "print('The vectorized code is {} times faster than the vectorized code'.format((t1-t0)/(t2-t1)))\n",
    "\n",
    "# Plot the result\n",
    "plt.imshow(f2, cmap='Blues',interpolation='none', extent=[-4,4,-4,4])\n",
    "# Darker blue indicates f(x) is above the threshold."
   ]
  },
  {
   "cell_type": "markdown",
   "metadata": {},
   "source": [
    "## 9\n",
    "This exercise will walk through some basic numerical programming exercises.\n",
    "1. Synthesize $n=10^4$ normally distributed data points with mean $\\mu=2$ and a standard deviation of $\\sigma=1$. Call these observations from a random variable $X$, and call the vector of observations that you generate, $\\textbf{x}$.\n",
    "2. Calculate the mean and standard deviation of $\\textbf{x}$ to validate (1) and provide the result to a precision of four significant figures.\n",
    "3. Plot a histogram of the data in $\\textbf{x}$ with 30 bins\n",
    "4. What is the 90th percentile of $\\textbf{x}$? The 90th percentile is the value below which 90% of observations can be found.\n",
    "5. What is the 99th percentile of $\\textbf{x}$?\n",
    "6. Now synthesize $n=10^4$ normally distributed data points with mean $\\mu=0$ and a standard deviation of $\\sigma=3$. Call these observations from a random variable $Y$, and call the vector of observations that you generate, $\\textbf{y}$.\n",
    "7. Plot the histogram of the data in $\\textbf{y}$ on a (new) plot with the histogram of $\\textbf{x}$, so that both histograms can be seen and compared.\n",
    "8. Using the observations from $\\textbf{x}$ and $\\textbf{y}$, estimate $E[XY]$"
   ]
  },
  {
   "cell_type": "markdown",
   "metadata": {},
   "source": [
    "**ANSWER**"
   ]
  },
  {
   "cell_type": "code",
   "execution_count": 80,
   "metadata": {
    "collapsed": true
   },
   "outputs": [
    {
     "name": "stdout",
     "output_type": "stream",
     "text": [
      "mu = 2.002, sigma = 0.9982\n",
      "3.283984786021299\n",
      "4.2955040369860775\n"
     ]
    },
    {
     "data": {
      "text/plain": [
       "(array([3.000e+00, 9.000e+00, 1.800e+01, 2.400e+01, 5.800e+01, 1.110e+02,\n",
       "        1.780e+02, 2.930e+02, 3.820e+02, 6.020e+02, 7.330e+02, 8.240e+02,\n",
       "        9.610e+02, 1.077e+03, 1.029e+03, 9.250e+02, 7.630e+02, 6.690e+02,\n",
       "        4.370e+02, 3.650e+02, 2.340e+02, 1.420e+02, 8.400e+01, 4.100e+01,\n",
       "        1.900e+01, 6.000e+00, 9.000e+00, 2.000e+00, 1.000e+00, 1.000e+00]),\n",
       " array([-10.90328491, -10.11545024,  -9.32761557,  -8.5397809 ,\n",
       "         -7.75194623,  -6.96411156,  -6.17627689,  -5.38844222,\n",
       "         -4.60060756,  -3.81277289,  -3.02493822,  -2.23710355,\n",
       "         -1.44926888,  -0.66143421,   0.12640046,   0.91423513,\n",
       "          1.7020698 ,   2.48990447,   3.27773913,   4.0655738 ,\n",
       "          4.85340847,   5.64124314,   6.42907781,   7.21691248,\n",
       "          8.00474715,   8.79258182,   9.58041649,  10.36825116,\n",
       "         11.15608583,  11.94392049,  12.73175516]),\n",
       " <a list of 30 Patch objects>)"
      ]
     },
     "execution_count": 80,
     "metadata": {},
     "output_type": "execute_result"
    },
    {
     "data": {
      "image/png": "[encoded data removed]",
      "text/plain": [
       "<Figure size 432x288 with 1 Axes>"
      ]
     },
     "metadata": {},
     "output_type": "display_data"
    },
    {
     "data": {
      "image/png": "[encoded data removed]",
      "text/plain": [
       "<Figure size 432x288 with 1 Axes>"
      ]
     },
     "metadata": {},
     "output_type": "display_data"
    }
   ],
   "source": [
    "# 1\n",
    "x = np.random.normal(2, 1, 10000)\n",
    "\n",
    "# 2\n",
    "mu = np.mean(x)\n",
    "sigma = np.std(x)\n",
    "print('mu = {:.4}, sigma = {:.4}'.format(mu, sigma))\n",
    "\n",
    "# 3\n",
    "plt.figure()\n",
    "plt.hist(x, bins = 30)\n",
    "\n",
    "# 4\n",
    "P90 = np.percentile(x, 90)\n",
    "print(P90)\n",
    "\n",
    "# 5\n",
    "P99 = np.percentile(x, 99)\n",
    "print(P99)\n",
    "\n",
    "# 6\n",
    "y = np.random.normal(0, 3, 10000)\n",
    "\n",
    "# 7\n",
    "plt.figure()\n",
    "plt.hist(y, bins = 30)\n",
    "\n",
    "# 8\n"
   ]
  },
  {
   "cell_type": "markdown",
   "metadata": {},
   "source": [
    "## 10\n",
    "Estimate the integral of the function $f(x)$ on the interval $0\\leq x < 2.5$ assuming we only know the following points from $f$:\n",
    "\n",
    "*Table 1. Dataset containing n=5 observations*\n",
    "\n",
    "| $x_i$ | 0.0 | 0.5 | 1.0 | 1.5 | 2.0 |\n",
    "|-|-|-|-|-|-|\n",
    "| $y_i$ | 6 | 7 | 8 | 4 | 1 |\n"
   ]
  },
  {
   "cell_type": "markdown",
   "metadata": {},
   "source": [
    "**ANSWER**\n",
    "\n"
   ]
  },
  {
   "cell_type": "markdown",
   "metadata": {},
   "source": [
    "# Version Control via Git"
   ]
  },
  {
   "cell_type": "markdown",
   "metadata": {},
   "source": [
    "## 11\n",
    "Complete the [Atlassian Git tutorial](https://www.atlassian.com/git/tutorials/what-is-version-control), specifically the following sections. Try each concept that's presented. For this tutorial, instead of using BitBucket, use Github. Create a github account here if you don't already have one: https://github.com/\n",
    "1. [What is version control](https://www.atlassian.com/git/tutorials/what-is-version-control)\n",
    "2. [What is Git](https://www.atlassian.com/git/tutorials/what-is-git)\n",
    "3. [Install Git](https://www.atlassian.com/git/tutorials/install-git)\n",
    "4. [Setting up a repository](https://www.atlassian.com/git/tutorials/install-git)\n",
    "5. [Saving changes](https://www.atlassian.com/git/tutorials/saving-changes)\n",
    "6. [Inspecting a repository](https://www.atlassian.com/git/tutorials/inspecting-a-repository)\n",
    "7. [Undoing changes](https://www.atlassian.com/git/tutorials/undoing-changes)\n",
    "8. [Rewriting history](https://www.atlassian.com/git/tutorials/rewriting-history)\n",
    "9. [Syncing](https://www.atlassian.com/git/tutorials/syncing)\n",
    "10. [Making a pull request](https://www.atlassian.com/git/tutorials/making-a-pull-request)\n",
    "11. [Using branches](https://www.atlassian.com/git/tutorials/using-branches)\n",
    "12. [Comparing workflows](https://www.atlassian.com/git/tutorials/comparing-workflows)\n",
    "\n",
    "For your answer, affirm that you either completed the tutorial or have previous experience with all of the concepts above. Do this by typing your name below and selecting the situation that applies from the two options in brackets."
   ]
  },
  {
   "cell_type": "markdown",
   "metadata": {},
   "source": [
    "**ANSWER**\n",
    "\n",
    "*I, [**your name here**], affirm that I have [**completed the above tutorial / I have previous experience that covers all the content in this tutorial**]*"
   ]
  },
  {
   "cell_type": "markdown",
   "metadata": {},
   "source": [
    "## 12\n",
    "Using Github to create a static HTML website:\n",
    "1. Create a branch in your `machine-learning-course` repo called \"gh-pages\" and checkout that branch (this will provide an example of how to create a simple static website using [Github Pages](https://pages.github.com/))\n",
    "2. Create a file called \"index.html\" with the contents \"Hello World\" and add, commit, and push it to that branch.\n",
    "3. Submit the following: (a) a link to your github repository and (b) a link to your new \"Hello World\" website. The latter should be at the address https://[USERNAME].github.io/ECE590-assignment0 (where [USERNAME] is your github username)."
   ]
  },
  {
   "cell_type": "markdown",
   "metadata": {},
   "source": [
    "**ANSWER**\n",
    "\n"
   ]
  },
  {
   "cell_type": "markdown",
   "metadata": {},
   "source": [
    "# Exploratory Data Analysis\n",
    "## 13\n",
    "Here you'll bring together some of the individual skills that you demonstrated above and create a Jupyter notebook based blog post on data analysis.\n",
    "\n",
    "1. Find a dataset that interests you and relates to a question or problem that you find intriguing\n",
    "2. Using a Jupyter notebook, describe the dataset, the source of the data, and the reason the dataset was of interest.\n",
    "3. Check the data and see if they need to be cleaned: are there missing values? Are there clearly erroneous values? Do two tables need to be merged together? Clean the data so it can be visualized.\n",
    "3. Plot the data, demonstrating interesting features that you discover. Are there any relationships between variables that were surprising or patterns that emerged? Please exercise creativity and curiosity in your plots.\n",
    "4. What insights are you able to take away from exploring the data? Is there a reason why analyzing the dataset you chose is particularly interesting or important? Summarize this as if your target audience was the readership of a major news organization - boil down your findings in a way that is accessible, but still accurate.\n",
    "5. Create a public repository on your github account titled \"machine-learning-course\". In it, create a readme file that contains the heading \"ECE590: Introductory Machine Learning for Data Science\". Add, commit, and push that Jupyter notebook to the master branch. Provide the link to the that post here."
   ]
  },
  {
   "cell_type": "markdown",
   "metadata": {},
   "source": [
    "**ANSWER**\n",
    "\n"
   ]
  }
 ],
 "metadata": {
  "kernelspec": {
   "display_name": "Python 3",
   "language": "python",
   "name": "python3"
  },
  "language_info": {
   "codemirror_mode": {
    "name": "ipython",
    "version": 3
   },
   "file_extension": ".py",
   "mimetype": "text/x-python",
   "name": "python",
   "nbconvert_exporter": "python",
   "pygments_lexer": "ipython3",
   "version": "3.6.5"
  }
 },
 "nbformat": 4,
 "nbformat_minor": 2
}
