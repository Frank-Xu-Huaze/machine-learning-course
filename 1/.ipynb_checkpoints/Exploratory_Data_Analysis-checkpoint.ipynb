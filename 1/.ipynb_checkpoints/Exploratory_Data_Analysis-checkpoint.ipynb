{
 "cells": [
  {
   "cell_type": "markdown",
   "metadata": {},
   "source": [
    "# Exploratory Data Analysis\n",
    "## for the course *ECE590: Introductory Machine Learning for Data Science*\n",
    "\n",
    "## *Frank Xu*\n",
    "Netid:  *hx44*"
   ]
  },
  {
   "cell_type": "markdown",
   "metadata": {},
   "source": [
    "### 1&2 Data set and the question\n",
    "\n",
    "Data source: https://www.kaggle.com/mohansacharya/graduate-admissions/home\n",
    "\n",
    "##### The data set is from Kaggle, featuring 500 observations of chance of admit data with the students' GRE and TOFEL score, GPA and other important attributes for graduate admission.\n",
    "\n",
    "##### The question is: Whether GRE, TOFEL, CGPA, SOP, LOR, university ranking and research experience influence the graduate admission, and if so, to what extent do they affect the chance of admit?"
   ]
  },
  {
   "cell_type": "markdown",
   "metadata": {},
   "source": [
    "### 3 Checking data"
   ]
  },
  {
   "cell_type": "code",
   "execution_count": 11,
   "metadata": {},
   "outputs": [
    {
     "name": "stdout",
     "output_type": "stream",
     "text": [
      "Serial No.           False\n",
      "GRE Score            False\n",
      "TOEFL Score          False\n",
      "University Rating    False\n",
      "SOP                  False\n",
      "LOR                  False\n",
      "CGPA                 False\n",
      "Research             False\n",
      "Chance of Admit      False\n",
      "dtype: bool\n"
     ]
    },
    {
     "data": {
      "text/html": [
       "<div>\n",
       "<style scoped>\n",
       "    .dataframe tbody tr th:only-of-type {\n",
       "        vertical-align: middle;\n",
       "    }\n",
       "\n",
       "    .dataframe tbody tr th {\n",
       "        vertical-align: top;\n",
       "    }\n",
       "\n",
       "    .dataframe thead th {\n",
       "        text-align: right;\n",
       "    }\n",
       "</style>\n",
       "<table border=\"1\" class=\"dataframe\">\n",
       "  <thead>\n",
       "    <tr style=\"text-align: right;\">\n",
       "      <th></th>\n",
       "      <th>Serial No.</th>\n",
       "      <th>GRE Score</th>\n",
       "      <th>TOEFL Score</th>\n",
       "      <th>University Rating</th>\n",
       "      <th>SOP</th>\n",
       "      <th>LOR</th>\n",
       "      <th>CGPA</th>\n",
       "      <th>Research</th>\n",
       "      <th>Chance of Admit</th>\n",
       "    </tr>\n",
       "  </thead>\n",
       "  <tbody>\n",
       "    <tr>\n",
       "      <th>count</th>\n",
       "      <td>500.000000</td>\n",
       "      <td>500.000000</td>\n",
       "      <td>500.000000</td>\n",
       "      <td>500.000000</td>\n",
       "      <td>500.000000</td>\n",
       "      <td>500.00000</td>\n",
       "      <td>500.000000</td>\n",
       "      <td>500.000000</td>\n",
       "      <td>500.00000</td>\n",
       "    </tr>\n",
       "    <tr>\n",
       "      <th>mean</th>\n",
       "      <td>250.500000</td>\n",
       "      <td>316.472000</td>\n",
       "      <td>107.192000</td>\n",
       "      <td>3.114000</td>\n",
       "      <td>3.374000</td>\n",
       "      <td>3.48400</td>\n",
       "      <td>8.576440</td>\n",
       "      <td>0.560000</td>\n",
       "      <td>0.72174</td>\n",
       "    </tr>\n",
       "    <tr>\n",
       "      <th>std</th>\n",
       "      <td>144.481833</td>\n",
       "      <td>11.295148</td>\n",
       "      <td>6.081868</td>\n",
       "      <td>1.143512</td>\n",
       "      <td>0.991004</td>\n",
       "      <td>0.92545</td>\n",
       "      <td>0.604813</td>\n",
       "      <td>0.496884</td>\n",
       "      <td>0.14114</td>\n",
       "    </tr>\n",
       "    <tr>\n",
       "      <th>min</th>\n",
       "      <td>1.000000</td>\n",
       "      <td>290.000000</td>\n",
       "      <td>92.000000</td>\n",
       "      <td>1.000000</td>\n",
       "      <td>1.000000</td>\n",
       "      <td>1.00000</td>\n",
       "      <td>6.800000</td>\n",
       "      <td>0.000000</td>\n",
       "      <td>0.34000</td>\n",
       "    </tr>\n",
       "    <tr>\n",
       "      <th>25%</th>\n",
       "      <td>125.750000</td>\n",
       "      <td>308.000000</td>\n",
       "      <td>103.000000</td>\n",
       "      <td>2.000000</td>\n",
       "      <td>2.500000</td>\n",
       "      <td>3.00000</td>\n",
       "      <td>8.127500</td>\n",
       "      <td>0.000000</td>\n",
       "      <td>0.63000</td>\n",
       "    </tr>\n",
       "    <tr>\n",
       "      <th>50%</th>\n",
       "      <td>250.500000</td>\n",
       "      <td>317.000000</td>\n",
       "      <td>107.000000</td>\n",
       "      <td>3.000000</td>\n",
       "      <td>3.500000</td>\n",
       "      <td>3.50000</td>\n",
       "      <td>8.560000</td>\n",
       "      <td>1.000000</td>\n",
       "      <td>0.72000</td>\n",
       "    </tr>\n",
       "    <tr>\n",
       "      <th>75%</th>\n",
       "      <td>375.250000</td>\n",
       "      <td>325.000000</td>\n",
       "      <td>112.000000</td>\n",
       "      <td>4.000000</td>\n",
       "      <td>4.000000</td>\n",
       "      <td>4.00000</td>\n",
       "      <td>9.040000</td>\n",
       "      <td>1.000000</td>\n",
       "      <td>0.82000</td>\n",
       "    </tr>\n",
       "    <tr>\n",
       "      <th>max</th>\n",
       "      <td>500.000000</td>\n",
       "      <td>340.000000</td>\n",
       "      <td>120.000000</td>\n",
       "      <td>5.000000</td>\n",
       "      <td>5.000000</td>\n",
       "      <td>5.00000</td>\n",
       "      <td>9.920000</td>\n",
       "      <td>1.000000</td>\n",
       "      <td>0.97000</td>\n",
       "    </tr>\n",
       "  </tbody>\n",
       "</table>\n",
       "</div>"
      ],
      "text/plain": [
       "       Serial No.   GRE Score  TOEFL Score  University Rating         SOP  \\\n",
       "count  500.000000  500.000000   500.000000         500.000000  500.000000   \n",
       "mean   250.500000  316.472000   107.192000           3.114000    3.374000   \n",
       "std    144.481833   11.295148     6.081868           1.143512    0.991004   \n",
       "min      1.000000  290.000000    92.000000           1.000000    1.000000   \n",
       "25%    125.750000  308.000000   103.000000           2.000000    2.500000   \n",
       "50%    250.500000  317.000000   107.000000           3.000000    3.500000   \n",
       "75%    375.250000  325.000000   112.000000           4.000000    4.000000   \n",
       "max    500.000000  340.000000   120.000000           5.000000    5.000000   \n",
       "\n",
       "             LOR        CGPA    Research  Chance of Admit  \n",
       "count  500.00000  500.000000  500.000000        500.00000  \n",
       "mean     3.48400    8.576440    0.560000          0.72174  \n",
       "std      0.92545    0.604813    0.496884          0.14114  \n",
       "min      1.00000    6.800000    0.000000          0.34000  \n",
       "25%      3.00000    8.127500    0.000000          0.63000  \n",
       "50%      3.50000    8.560000    1.000000          0.72000  \n",
       "75%      4.00000    9.040000    1.000000          0.82000  \n",
       "max      5.00000    9.920000    1.000000          0.97000  "
      ]
     },
     "execution_count": 11,
     "metadata": {},
     "output_type": "execute_result"
    }
   ],
   "source": [
    "import pandas as pd\n",
    "import numpy as np\n",
    "import matplotlib.pyplot as plt\n",
    "\n",
    "# Reading in data\n",
    "df=pd.read_csv('Admission_Predict.csv', sep=',')\n",
    "\n",
    "# Determine if there exist any null values\n",
    "print(df.isnull().any())\n",
    "\n",
    "# Changing data types and column names\n",
    "df.rename(columns = {\"LOR \": \"LOR\", \"Chance of Admit \": \"Chance of Admit\"}, inplace = True)\n",
    "\n",
    "# Describe data\n",
    "df.describe()"
   ]
  },
  {
   "cell_type": "markdown",
   "metadata": {},
   "source": [
    "#### There seems to have no missing values or erroneous values. The column name need to be changed slightly, and 'Research' column should be boolean. The data set is ready for visualization."
   ]
  },
  {
   "cell_type": "markdown",
   "metadata": {},
   "source": [
    "### 4 Plotting and Exploring"
   ]
  },
  {
   "cell_type": "code",
   "execution_count": 2,
   "metadata": {},
   "outputs": [
    {
     "data": {
      "text/plain": [
       "(array([ 2.,  1.,  7., 11., 20., 23., 12., 23., 17., 22., 27., 36., 29.,\n",
       "        33., 24., 33., 30., 38., 29., 19., 17., 12., 12.,  7., 16.]),\n",
       " array([290., 292., 294., 296., 298., 300., 302., 304., 306., 308., 310.,\n",
       "        312., 314., 316., 318., 320., 322., 324., 326., 328., 330., 332.,\n",
       "        334., 336., 338., 340.]),\n",
       " <a list of 25 Patch objects>)"
      ]
     },
     "execution_count": 2,
     "metadata": {},
     "output_type": "execute_result"
    },
    {
     "data": {
      "image/png": "[encoded data removed]",
      "text/plain": [
       "<Figure size 432x288 with 1 Axes>"
      ]
     },
     "metadata": {},
     "output_type": "display_data"
    }
   ],
   "source": [
    "# First let's see the distribution of most attributes\n",
    "plt.xticks(np.arange(290, 341, 5.0))\n",
    "plt.ylabel('frequency')\n",
    "plt.xlabel('GRE Score')\n",
    "plt.hist(df['GRE Score'], bins = 25)"
   ]
  },
  {
   "cell_type": "code",
   "execution_count": 3,
   "metadata": {},
   "outputs": [
    {
     "data": {
      "text/plain": [
       "(array([ 3.,  2.,  3.,  6.,  7., 10., 23., 24., 44., 25., 29., 37., 28.,\n",
       "        28., 19., 19., 64., 28., 19., 18., 11., 16.,  8., 10., 19.]),\n",
       " array([ 92.  ,  93.12,  94.24,  95.36,  96.48,  97.6 ,  98.72,  99.84,\n",
       "        100.96, 102.08, 103.2 , 104.32, 105.44, 106.56, 107.68, 108.8 ,\n",
       "        109.92, 111.04, 112.16, 113.28, 114.4 , 115.52, 116.64, 117.76,\n",
       "        118.88, 120.  ]),\n",
       " <a list of 25 Patch objects>)"
      ]
     },
     "execution_count": 3,
     "metadata": {},
     "output_type": "execute_result"
    },
    {
     "data": {
      "image/png": "[encoded data removed]",
      "text/plain": [
       "<Figure size 432x288 with 1 Axes>"
      ]
     },
     "metadata": {},
     "output_type": "display_data"
    }
   ],
   "source": [
    "plt.xticks(np.arange(90, 121, 5.0))\n",
    "plt.ylabel('frequency')\n",
    "plt.xlabel('TOEFL Score')\n",
    "plt.hist(df['TOEFL Score'], bins = 25)"
   ]
  },
  {
   "cell_type": "code",
   "execution_count": 4,
   "metadata": {},
   "outputs": [
    {
     "data": {
      "text/plain": [
       "(array([ 34., 126., 162., 105.,  73.]),\n",
       " array([1. , 1.8, 2.6, 3.4, 4.2, 5. ]),\n",
       " <a list of 5 Patch objects>)"
      ]
     },
     "execution_count": 4,
     "metadata": {},
     "output_type": "execute_result"
    },
    {
     "data": {
      "image/png": "[encoded data removed]",
      "text/plain": [
       "<Figure size 432x288 with 1 Axes>"
      ]
     },
     "metadata": {},
     "output_type": "display_data"
    }
   ],
   "source": [
    "plt.xticks(np.arange(1, 6, 1.0))\n",
    "plt.ylabel('frequency')\n",
    "plt.xlabel('University Rating')\n",
    "plt.hist(df['University Rating'], bins = 5)"
   ]
  },
  {
   "cell_type": "code",
   "execution_count": 5,
   "metadata": {},
   "outputs": [
    {
     "data": {
      "text/plain": [
       "(array([ 6., 25., 43., 64., 80., 88., 89., 63., 42.]),\n",
       " array([1.        , 1.44444444, 1.88888889, 2.33333333, 2.77777778,\n",
       "        3.22222222, 3.66666667, 4.11111111, 4.55555556, 5.        ]),\n",
       " <a list of 9 Patch objects>)"
      ]
     },
     "execution_count": 5,
     "metadata": {},
     "output_type": "execute_result"
    },
    {
     "data": {
      "image/png": "[encoded data removed]",
      "text/plain": [
       "<Figure size 432x288 with 1 Axes>"
      ]
     },
     "metadata": {},
     "output_type": "display_data"
    }
   ],
   "source": [
    "plt.xticks(np.arange(1, 6, 0.5))\n",
    "plt.ylabel('frequency')\n",
    "plt.xlabel('Statement of Purpose')\n",
    "plt.hist(df['SOP'], bins = 9)"
   ]
  },
  {
   "cell_type": "code",
   "execution_count": 6,
   "metadata": {},
   "outputs": [
    {
     "data": {
      "text/plain": [
       "(array([ 1., 11., 46., 50., 99., 86., 94., 63., 50.]),\n",
       " array([1.        , 1.44444444, 1.88888889, 2.33333333, 2.77777778,\n",
       "        3.22222222, 3.66666667, 4.11111111, 4.55555556, 5.        ]),\n",
       " <a list of 9 Patch objects>)"
      ]
     },
     "execution_count": 6,
     "metadata": {},
     "output_type": "execute_result"
    },
    {
     "data": {
      "image/png": "[encoded data removed]",
      "text/plain": [
       "<Figure size 432x288 with 1 Axes>"
      ]
     },
     "metadata": {},
     "output_type": "display_data"
    }
   ],
   "source": [
    "plt.xticks(np.arange(1, 6, 0.5))\n",
    "plt.ylabel('frequency')\n",
    "plt.xlabel('Letters of Recommendation')\n",
    "plt.hist(df['LOR'], bins = 9)"
   ]
  },
  {
   "cell_type": "code",
   "execution_count": 7,
   "metadata": {},
   "outputs": [
    {
     "data": {
      "text/plain": [
       "(array([ 1.,  0.,  0.,  5.,  6.,  9., 19.,  7., 28., 33., 31., 32., 30.,\n",
       "        43., 39., 41., 20., 32., 40., 23., 15., 18., 12.,  7.,  9.]),\n",
       " array([6.8   , 6.9248, 7.0496, 7.1744, 7.2992, 7.424 , 7.5488, 7.6736,\n",
       "        7.7984, 7.9232, 8.048 , 8.1728, 8.2976, 8.4224, 8.5472, 8.672 ,\n",
       "        8.7968, 8.9216, 9.0464, 9.1712, 9.296 , 9.4208, 9.5456, 9.6704,\n",
       "        9.7952, 9.92  ]),\n",
       " <a list of 25 Patch objects>)"
      ]
     },
     "execution_count": 7,
     "metadata": {},
     "output_type": "execute_result"
    },
    {
     "data": {
      "image/png": "[encoded data removed]",
      "text/plain": [
       "<Figure size 432x288 with 1 Axes>"
      ]
     },
     "metadata": {},
     "output_type": "display_data"
    }
   ],
   "source": [
    "plt.xticks(np.arange(6, 11, 0.5))\n",
    "plt.ylabel('frequency')\n",
    "plt.xlabel('Cumulative Grade Point Average')\n",
    "plt.hist(df['CGPA'], bins = 25)"
   ]
  },
  {
   "cell_type": "code",
   "execution_count": 8,
   "metadata": {},
   "outputs": [
    {
     "data": {
      "text/plain": [
       "(array([220.,   0.,   0.,   0.,   0.,   0.,   0.,   0.,   0., 280.]),\n",
       " array([0. , 0.1, 0.2, 0.3, 0.4, 0.5, 0.6, 0.7, 0.8, 0.9, 1. ]),\n",
       " <a list of 10 Patch objects>)"
      ]
     },
     "execution_count": 8,
     "metadata": {},
     "output_type": "execute_result"
    },
    {
     "data": {
      "image/png": "[encoded data removed]",
      "text/plain": [
       "<Figure size 432x288 with 1 Axes>"
      ]
     },
     "metadata": {},
     "output_type": "display_data"
    }
   ],
   "source": [
    "plt.xticks([0, 1])\n",
    "plt.ylabel('frequency')\n",
    "plt.xlabel('Research')\n",
    "plt.hist(df['Research'])"
   ]
  },
  {
   "cell_type": "code",
   "execution_count": 9,
   "metadata": {},
   "outputs": [
    {
     "data": {
      "text/plain": [
       "(array([ 7.,  5., 12., 15., 22., 34., 32., 51., 58., 54., 68., 33., 28.,\n",
       "        39., 42.]),\n",
       " array([0.34 , 0.382, 0.424, 0.466, 0.508, 0.55 , 0.592, 0.634, 0.676,\n",
       "        0.718, 0.76 , 0.802, 0.844, 0.886, 0.928, 0.97 ]),\n",
       " <a list of 15 Patch objects>)"
      ]
     },
     "execution_count": 9,
     "metadata": {},
     "output_type": "execute_result"
    },
    {
     "data": {
      "image/png": "[encoded data removed]",
      "text/plain": [
       "<Figure size 432x288 with 1 Axes>"
      ]
     },
     "metadata": {},
     "output_type": "display_data"
    }
   ],
   "source": [
    "plt.xticks(np.arange(0, 1.1, 0.1))\n",
    "plt.ylabel('frequency')\n",
    "plt.xlabel('Chance of Admit')\n",
    "plt.hist(df['Chance of Admit'], bins = 15)"
   ]
  },
  {
   "cell_type": "code",
   "execution_count": 10,
   "metadata": {},
   "outputs": [
    {
     "data": {
      "text/plain": [
       "<matplotlib.axes._subplots.AxesSubplot at 0x1a1b2a5550>"
      ]
     },
     "execution_count": 10,
     "metadata": {},
     "output_type": "execute_result"
    },
    {
     "data": {
      "image/png": "[encoded data removed]",
      "text/plain": [
       "<Figure size 432x288 with 2 Axes>"
      ]
     },
     "metadata": {},
     "output_type": "display_data"
    }
   ],
   "source": [
    "import seaborn as sns\n",
    "\n",
    "# Correlation between columns\n",
    "sns.heatmap(df.corr(), mask=np.zeros_like(df.corr(), dtype=np.bool), cmap=sns.diverging_palette(220, 10, as_cmap=True),\n",
    "            square=True)"
   ]
  },
  {
   "cell_type": "markdown",
   "metadata": {},
   "source": [
    "### 5 Explaining and Interpretation\n",
    "\n",
    "#### For the distributions, we can see some interesting trend for certain columns:\n",
    "\n",
    "1. GRE score clearly has two peaks in the distribution, between 310-315 and just above 325, repectively. Since GRE score is produced by a normal distribution, those peaks are absolutely abnormal naturely. Combining with our own experience, it proves that certain number of students take GRE multiple times until they reach 310 and 325, which are considered the \"Pass\" and \"Excellent\" score in GRE.\n",
    "\n",
    "2. TOFEL score has a more clear trend of peaks in a normal distribution. Same as GRE, students are trying to get above 100 and 110, which are considered the \"Pass\" and \"Excellent\" score in TOFEL. \n",
    "\n",
    "3. The SOP and LOR are scored by human, more specifically, the admission office. The both have a slightly skewed distribution, with $\\mu$ around 3.5 - 4.0.\n",
    "\n",
    "4. The CGPA also shows how students are \"trying\" to get their GPA to certain levels: 7.5, 8.5 and 9.0. \n",
    "\n",
    "5. Finally, about chance of admit: The correlation plot shows that among those attribute, the most correlated are CGPA, GRE and TOFEL, sorted by importance. By the way, those three scores themself are also highly correlated, which means a student with a high CGPA has greater chance of having higher GRE and TOFEL scores. In comparison with those three scores, Research experience (whether they have it or not) is the least important (still, a 0.5 correlation for the worst one), followed by letters of recommendation.\n",
    "\n",
    "#### Overall speaking, if you are going to apply for a graduate program, you should be aware that certain score \"platforms\" for GRE, TOFEL and CGPA, that if you still have chance to improve your score, try to beat those levels because that is what most students do."
   ]
  }
 ],
 "metadata": {
  "kernelspec": {
   "display_name": "Python 3",
   "language": "python",
   "name": "python3"
  },
  "language_info": {
   "codemirror_mode": {
    "name": "ipython",
    "version": 3
   },
   "file_extension": ".py",
   "mimetype": "text/x-python",
   "name": "python",
   "nbconvert_exporter": "python",
   "pygments_lexer": "ipython3",
   "version": "3.6.5"
  }
 },
 "nbformat": 4,
 "nbformat_minor": 2
}
